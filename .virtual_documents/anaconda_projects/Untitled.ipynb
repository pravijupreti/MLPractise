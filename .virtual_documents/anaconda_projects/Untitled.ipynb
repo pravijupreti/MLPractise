import numpy as np
import pandas as pd
import matplotlib.pyplot as plt
import seaborn as sns
%matplotlib inline


db = pd.read_csv('fraud_dataset.csv')
db.head()


db.info()


db.describe()


dataobj = (db.dtypes == 'object')
obj_cols = list(dataobj[dataobj].index)
print("Categorical Variables:",len(obj_cols))

int_ = (db.dtypes == 'int64')
num_cols = list(int_[int_].index)
print("Categorical Variables:",len(num_cols),num_cols)

fl_ = (db.dtypes == 'float')
fl_col = list(fl_[fl_].index)
print("float variables:",len(fl_col) , fl_col)


sns.countplot(x='type',data=db)
plt.show()


sns.barplot(x='type',y='amount',data=db)
plt.show()


db['isFraud'].value_counts()


plt.figure(figsize=(15,6))
sns.displot(db['step'],bins=50)
plt.show()


plt.figure(figsize=(12,6))
sns.heatmap(db.apply(lambda x:pd.factorize(x)[0]).corr(),
            cmap = 'BrBG',
            fmt='.2f',
            linewidths = 2,
            annot=True)
plt.show()


type_new = pd.get_dummies(db['type'],drop_first=True)
data_new = pd.concat([db,type_new],axis=1)
data_new.head()


X = data_new.drop(['isFraud','type','nameOrig','nameDest'],axis=1)
Y=data_new['isFraud']


X.shape , Y.shape


from sklearn.model_selection import train_test_split
X_train,X_test,Y_train,Y_test = train_test_split(
    X,Y,test_size=0.2,random_state=42)


from xgboost import XGBClassifier
from sklearn.metrics import roc_auc_score as ras
from sklearn.linear_model import LogisticRegression
from sklearn.svm import SVC
from sklearn.ensemble import RandomForestClassifier


#Model Train
models = [LogisticRegression(),XGBClassifier(),
         RandomForestClassifier(n_estimators=7,
                               criterion='entropy',
                               random_state=7)]
for i in range(len(models)):
    models[i].fit(X_train,Y_train)
    print(f'{models[i]}:')

    train_preds=models[i].predict_proba(X_train)[:,1]
    print('Training Accuracy: ',ras(Y_train,train_preds))

    y_preds = models[i].predict_proba(X_test)[:,1]
    print('Validation Accuracy:' ,ras(Y_test,y_preds))
    print()


from sklearn.metrics import ConfusionMatrixDisplay

cm = ConfusionMatrixDisplay.from_estimator(models[1],X_test,Y_test)
cm.plot(cmap='Blues')
plt.show()






